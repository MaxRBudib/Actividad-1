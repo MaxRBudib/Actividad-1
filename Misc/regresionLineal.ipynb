{
 "cells": [
  {
   "cell_type": "code",
   "execution_count": null,
   "metadata": {},
   "outputs": [],
   "source": [
    "import pandas as pd\n",
    "import seaborn as sns\n",
    "#df = sns.load_dataset(name=car_crashes)\n",
    "#paso uno decidir la variable dependiente e independiente\n",
    "# La variable dependiente e independiente se ingresan como argumentos de entrada a la función de \"regresión lineal simple\", esta función calcula el coeficientes \"a\" y \"b\"\n",
    "#Paso3: con el modelo resultante, se puede empezar a hacer la prediccion y se puede calcular el coeficiente de correlación \n",
    "# y = 2.032x + 5.857\n",
    "#Se grafican los valores reales y las predicciones"
   ]
  }
 ],
 "metadata": {
  "language_info": {
   "name": "python"
  },
  "orig_nbformat": 4
 },
 "nbformat": 4,
 "nbformat_minor": 2
}
